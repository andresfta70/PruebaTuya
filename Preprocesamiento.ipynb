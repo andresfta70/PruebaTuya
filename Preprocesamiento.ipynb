{
 "cells": [
  {
   "cell_type": "code",
   "execution_count": 9,
   "id": "df11897a-baad-4c65-8f0f-23ac812c7fe1",
   "metadata": {},
   "outputs": [],
   "source": [
    "#Importamos pandas como pd \n",
    "import pandas as pd \n",
    "\n",
    "# Leemos y almacenamos el contenido del archivo bd en diferentes dataframes\n",
    "xls = pd.ExcelFile('bd.xlsx')\n",
    "df1 = pd.read_excel(xls, 'CLIENTES')\n",
    "df2 = pd.read_excel(xls, 'TRANSACCIONES')\n",
    "df3 = pd.read_excel(xls, 'CATEGORIAS_CONSUMO')\n",
    "\n",
    "df1.rename(columns={'FEÇHA_APERTURA_TARJETA': 'FECHA_APERTURA_TARJETA'}, inplace=True)\n",
    "\n",
    "df2['FECHA_TRANSACCION'] = pd.to_datetime(df2['FECHA_TRANSACCION']).dt.date\n",
    "\n",
    "# Convertimos los objetos dataframe en archivos csv \n",
    "df1.to_csv (\"CLIENTES.csv\",  \n",
    "                  index = None, \n",
    "                  header=True,\n",
    "                  encoding = 'utf-16')\n",
    "\n",
    "df2.to_csv (\"TRANSACCIONES.csv\",  \n",
    "                  index = None, \n",
    "                  header=True,\n",
    "                  encoding = 'utf-16') \n",
    "\n",
    "df3.to_csv (\"CATEGORIAS_CONSUMO.csv\",  \n",
    "                  index = None, \n",
    "                  header=True,\n",
    "                  encoding = 'utf-16')"
   ]
  },
  {
   "cell_type": "code",
   "execution_count": null,
   "id": "c6cfaed4-70f7-45f7-a7c0-e27bf43ccb68",
   "metadata": {},
   "outputs": [],
   "source": []
  }
 ],
 "metadata": {
  "kernelspec": {
   "display_name": "Python 3 (ipykernel)",
   "language": "python",
   "name": "python3"
  },
  "language_info": {
   "codemirror_mode": {
    "name": "ipython",
    "version": 3
   },
   "file_extension": ".py",
   "mimetype": "text/x-python",
   "name": "python",
   "nbconvert_exporter": "python",
   "pygments_lexer": "ipython3",
   "version": "3.11.7"
  }
 },
 "nbformat": 4,
 "nbformat_minor": 5
}
